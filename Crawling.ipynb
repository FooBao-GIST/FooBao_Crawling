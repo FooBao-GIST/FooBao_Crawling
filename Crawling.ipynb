{
 "cells": [
  {
   "cell_type": "code",
   "execution_count": 1,
   "metadata": {},
   "outputs": [],
   "source": [
    "from selenium import webdriver\n",
    "from selenium.webdriver.common.by import By\n",
    "from selenium.webdriver.common.keys import Keys\n",
    "from selenium.webdriver.support.ui import WebDriverWait\n",
    "from selenium.webdriver.support import expected_conditions as EC\n",
    "from selenium.common.exceptions import NoSuchElementException, StaleElementReferenceException, TimeoutException\n",
    "from selenium.webdriver.chrome.options import Options\n",
    "from selenium.webdriver.chrome.service import Service\n",
    "from bs4 import BeautifulSoup\n",
    "import pandas as pd\n",
    "from urllib.request import urlopen\n",
    "from urllib.parse import quote_plus\n",
    "import requests\n",
    "from requests.adapters import HTTPAdapter\n",
    "from urllib3.util.retry import Retry\n",
    "import time\n",
    "import os\n",
    "import re"
   ]
  },
  {
   "cell_type": "code",
   "execution_count": 2,
   "metadata": {},
   "outputs": [
    {
     "name": "stdout",
     "output_type": "stream",
     "text": [
      "/Users/minjun/Downloads/FooBao_Crawling-main\n",
      "None\n"
     ]
    }
   ],
   "source": [
    "current_path = os.getcwd()\n",
    "print(print(current_path))"
   ]
  },
  {
   "cell_type": "code",
   "execution_count": 3,
   "metadata": {},
   "outputs": [],
   "source": [
    "restaurant_name = '마츠도 서울역점'"
   ]
  },
  {
   "cell_type": "code",
   "execution_count": 4,
   "metadata": {},
   "outputs": [
    {
     "name": "stdout",
     "output_type": "stream",
     "text": [
      "/Users/minjun/Downloads/FooBao_Crawling-main/마츠도 서울역점_2023.12.05\n"
     ]
    }
   ],
   "source": [
    "import os\n",
    "import datetime\n",
    "#사진 넣을 폴더 생성\n",
    "\n",
    "now = time.localtime()\n",
    "current_time = '%04d.%02d.%02d' %(now.tm_year, now.tm_mon, now.tm_mday)\n",
    "\n",
    "restaurant_dir_name = restaurant_name+\"_\"+current_time\n",
    "img_dir_name = \"review_\"+restaurant_name+\"_\"+current_time\n",
    "menu_dir_name = \"menu_\"+restaurant_name+\"_\"+current_time\n",
    "\n",
    "try:\n",
    "    os.makedirs(restaurant_dir_name)\n",
    "except FileExistsError:\n",
    "    print(\"이미 식당 폴더 있습니다\")\n",
    "    \n",
    "os.chdir(restaurant_dir_name)\n",
    "\n",
    "\n",
    "try:\n",
    "    os.makedirs(img_dir_name)\n",
    "    #os.chdir(img_dir_name)\n",
    "except FileExistsError:\n",
    "    print(\"이미 img 폴더 있습니다\")\n",
    "try:\n",
    "    os.makedirs(menu_dir_name)\n",
    "    #os.chdir(menu_dir_name)\n",
    "except FileExistsError:\n",
    "    print(\"이미 menu 폴더 있습니다\")\n",
    "print(os.getcwd())"
   ]
  },
  {
   "cell_type": "code",
   "execution_count": 12,
   "metadata": {},
   "outputs": [],
   "source": [
    "driver_path = '../chromedriver'  #driver 위치에 따라 수정\n",
    "\n",
    "#마음대로 안꺼지게 하는 옵션\n",
    "service = Service(executable_path=driver_path)\n",
    "options = Options()\n",
    "#options.add_argument(\"--start-maximized\")\n",
    "#options.add_experimental_option(\"detach\",True)\n",
    "\n",
    "driver = webdriver.Chrome(service=service, options=options)\n",
    "\n",
    "url = 'https://m.map.naver.com/p?c=15.00,0,0,0,dh'\n",
    "driver.get(url)"
   ]
  },
  {
   "cell_type": "code",
   "execution_count": 13,
   "metadata": {},
   "outputs": [],
   "source": [
    "#상호명 검색\n",
    "driver.find_element(By.XPATH,'''//*[@id=\"header\"]/header/div[1]/div[2]/div/input''').click()\n",
    "driver.implicitly_wait(2)\n",
    "driver.find_element(By.XPATH,'''//*[@id=\"ct\"]/div[1]/div[1]/div/form/input''').send_keys(restaurant_name)\n",
    "driver.find_element(By.XPATH,'''//*[@id=\"ct\"]/div[1]/div[1]/div/form/input''').send_keys(Keys.RETURN)\n",
    "driver.implicitly_wait(2)\n",
    "\n",
    "#클릭\n",
    "driver.find_element(By.XPATH,'''//*[@id=\"ct\"]/div[2]/ul/li/div[1]/a[2]/div''').click()"
   ]
  },
  {
   "cell_type": "code",
   "execution_count": 14,
   "metadata": {},
   "outputs": [],
   "source": [
    "#사진 옵션\n",
    "#가게마다 다름 (홈 소식 메뉴 리뷰 사진 지도 주변 정보) 이런식으로 사진이 5번째에 위치할 경우 XPATH 맨 마지막에 a[5], 4번째 위치할경우 a[4].\n",
    "\n",
    "driver.find_element(By.XPATH,'''//*[@id=\"app-root\"]/div/div/div/div[4]/div/div/div/div/a[5]''').click()"
   ]
  },
  {
   "cell_type": "code",
   "execution_count": 15,
   "id": "94692516",
   "metadata": {},
   "outputs": [],
   "source": [
    "# \"음식\"\n",
    "driver.find_element(By.XPATH,'''//*[@id=\"app-root\"]/div/div/div/div[6]/div[2]/div/div/div/div/span[3]/a''').click()\n",
    "driver.implicitly_wait(5)"
   ]
  },
  {
   "cell_type": "code",
   "execution_count": 16,
   "metadata": {},
   "outputs": [
    {
     "name": "stdout",
     "output_type": "stream",
     "text": [
      "!----- scroll_cnt = \"0\" -----!\n",
      "!----- scroll_cnt = \"1\" -----!\n",
      "!----- scroll_cnt = \"2\" -----!\n",
      "!----- scroll_cnt = \"3\" -----!\n",
      "!----- scroll_cnt = \"4\" -----!\n",
      "!----- scroll_cnt = \"5\" -----!\n",
      "!----- scroll_cnt = \"6\" -----!\n",
      "!----- scroll_cnt = \"7\" -----!\n",
      "!----- scroll_cnt = \"8\" -----!\n",
      "!----- scroll_cnt = \"9\" -----!\n",
      "!----- scroll_cnt = \"10\" -----!\n",
      "!----- scroll_cnt = \"11\" -----!\n",
      "!----- scroll_cnt = \"12\" -----!\n"
     ]
    }
   ],
   "source": [
    "# 리뷰 사진 크롤링\n",
    "scroll_cnt = 0\n",
    "max_scroll_cnt = 12    # 사용자 지정 필요\n",
    "\n",
    "img_dict = {}\n",
    "\n",
    "while scroll_cnt <= max_scroll_cnt:\n",
    "    html = driver.page_source\n",
    "    soup = BeautifulSoup(html, 'html.parser')\n",
    "    \n",
    "    if True:\n",
    "        print(f'!----- scroll_cnt = \"{scroll_cnt}\" -----!')\n",
    "        \n",
    "        img_block_list = soup.find_all('div', class_='wzrbN')\n",
    "        image_ids = [img.find('img')['id'] for img in img_block_list]\n",
    "        image_urls = [img.find('img')['src'] for img in img_block_list]\n",
    "\n",
    "        img_dict_temp = {img_id : img_url for img_id, img_url in zip(image_ids, image_urls)}\n",
    "        img_dict.update(img_dict_temp)\n",
    "        \n",
    "    else:\n",
    "        print(f'No element with scroll_cnt=\"{scroll_cnt}\" found')\n",
    "        # break\n",
    "\n",
    "    driver.execute_script(\"window.scrollTo(0,document.body.scrollHeight)\")\n",
    "    time.sleep(3)\n",
    "    \n",
    "    scroll_cnt += 1\n",
    "\n",
    "#맨 위로 스크롤\n",
    "for _ in range(10):\n",
    "    driver.find_element(By.TAG_NAME, 'body').send_keys(Keys.PAGE_UP)\n",
    "    time.sleep(0.2)\n",
    "\n",
    "#############"
   ]
  },
  {
   "cell_type": "code",
   "execution_count": 17,
   "id": "6d9c903d",
   "metadata": {},
   "outputs": [],
   "source": [
    "#메뉴 옵션\n",
    "\n",
    "#마찬가지로 가게마다 다름 (홈 소식 메뉴 리뷰 사진 지도 주변 정보) 이런식으로 메뉴가 3번째에 위치할 경우 XPATH 맨 마지막에 a[3], 4번째 위치할경우 a[4].\n",
    "driver.find_element(By.XPATH,'''//*[@id=\"app-root\"]/div/div/div/div[4]/div/div/div/div/a[3]''').click()\n",
    "driver.implicitly_wait(5)"
   ]
  },
  {
   "cell_type": "code",
   "execution_count": 18,
   "metadata": {},
   "outputs": [
    {
     "name": "stdout",
     "output_type": "stream",
     "text": [
      "더 이상 더보기 버튼이 없습니다.\n"
     ]
    }
   ],
   "source": [
    "# 메뉴 사진 크롤링\n",
    "\n",
    "#더보기 옵션\n",
    "#맨 밑으로 스크롤 -> 더보기 클릭 -> 스크롤 조금 -> 더보기 클릭 -> ... -> 더보기 안나오면 그제서야 맨위로 스크롤.\n",
    "\n",
    "#스크롤 다운: \"더보기\" 버튼을 찾을 수 없을 때까지 반복\n",
    "while True:\n",
    "    try:\n",
    "        # 더보기\" 버튼이 나타날 때까지 스크롤 다운\n",
    "        for _ in range(5):\n",
    "            driver.find_element(By.TAG_NAME, 'body').send_keys(Keys.PAGE_DOWN)\n",
    "            time.sleep(0.2)  # 스크롤 사이의 소폭 대기 시간\n",
    "        \n",
    "        #\"더보기\" 버튼 클릭\n",
    "        driver.find_element(By.XPATH,'''//*[@id=\"app-root\"]/div/div/div/div[6]/div/div[1]/div[2]/div/a''').click()\n",
    "        #클릭 후에 페이지 요소가 업데이트 될 때까지 잠시 대기\n",
    "        time.sleep(0.5)\n",
    "    \n",
    "    except NoSuchElementException:\n",
    "        #\"더보기\" 버튼이 없을 경우 루프 탈출\n",
    "        print(\"더 이상 더보기 버튼이 없습니다.\")\n",
    "        break\n",
    "\n",
    "#맨 위로 스크롤\n",
    "for _ in range(10):\n",
    "    driver.find_element(By.TAG_NAME, 'body').send_keys(Keys.PAGE_UP)\n",
    "    time.sleep(0.2)\n",
    "\n",
    "html = driver.page_source\n",
    "soup = BeautifulSoup(html, 'html.parser')\n",
    "menu_items = soup.find_all('div',class_='YBmM2')\n",
    "time.sleep(2)\n",
    "\n",
    "driver.quit() #드라이버 종료"
   ]
  },
  {
   "cell_type": "code",
   "execution_count": 46,
   "metadata": {},
   "outputs": [
    {
     "name": "stdout",
     "output_type": "stream",
     "text": [
      "<span class=\"place_blind\">마츠도 미소라멘</span>\n",
      "width: 100px; height: 100px; background-image: url(\"https://search.pstatic.net/common/?autoRotate=true&quality=95&type=f320_320&src=https%3A%2F%2Fldb-phinf.pstatic.net%2F20230426_251%2F1682476903528eOux9_JPEG%2FIMG_7377.jpeg\");\n",
      "\n",
      "<span class=\"place_blind\">마츠도 카라 미소라멘</span>\n",
      "width: 100px; height: 100px; background-image: url(\"https://search.pstatic.net/common/?autoRotate=true&quality=95&type=f320_320&src=https%3A%2F%2Fldb-phinf.pstatic.net%2F20230426_127%2F1682482685422GwDY9_JPEG%2FIMG_7372.jpeg\");\n",
      "\n",
      "<span class=\"place_blind\">마파두부면</span>\n",
      "width: 100px; height: 100px; background-image: url(\"https://search.pstatic.net/common/?autoRotate=true&quality=95&type=f320_320&src=https%3A%2F%2Fldb-phinf.pstatic.net%2F20230426_14%2F1682482719024T4gNx_JPEG%2FIMG_7385.jpeg\");\n",
      "\n",
      "<span class=\"place_blind\">미소아부라소바</span>\n",
      "width: 100px; height: 100px; background-image: url(\"https://search.pstatic.net/common/?autoRotate=true&quality=95&type=f320_320&src=https%3A%2F%2Fldb-phinf.pstatic.net%2F20230426_43%2F1682482757036RsnlK_JPEG%2FIMG_7380.jpeg\");\n",
      "\n",
      "<span class=\"place_blind\">카라 미소아부라소바</span>\n",
      "width: 100px; height: 100px; background-image: url(\"https://search.pstatic.net/common/?autoRotate=true&quality=95&type=f320_320&src=https%3A%2F%2Fldb-phinf.pstatic.net%2F20230717_280%2F1689540649756RxkqH_JPEG%2FIMG_7380.jpeg\");\n",
      "\n",
      "<span class=\"place_blind\">에비 아부라소바</span>\n",
      "width: 100px; height: 100px; background-image: url(\"https://search.pstatic.net/common/?autoRotate=true&quality=95&type=f320_320&src=https%3A%2F%2Fldb-phinf.pstatic.net%2F20230426_131%2F1682482802828bpSW7_JPEG%2FIMG_7381.jpeg\");\n",
      "\n",
      "<span class=\"place_blind\">새우물만두</span>\n",
      "width: 100px; height: 100px; background-image: url(\"https://search.pstatic.net/common/?autoRotate=true&quality=95&type=f320_320&src=https%3A%2F%2Fldb-phinf.pstatic.net%2F20230426_183%2F1682483641797L1yq7_JPEG%2FIMG_7378.jpeg\");\n",
      "\n",
      "<span class=\"place_blind\">세트추가(새우물만두)</span>\n",
      "width: 100px; height: 100px; background-image: url(\"https://search.pstatic.net/common/?autoRotate=true&quality=95&type=f320_320&src=https%3A%2F%2Fldb-phinf.pstatic.net%2F20230513_67%2F1683984217980wJNrV_JPEG%2FKakaoTalk_20230511_192804732.jpg\");\n",
      "\n",
      "<span class=\"place_blind\">차슈 추가</span>\n",
      "width: 100px; height: 100px; background-image: url(\"https://search.pstatic.net/common/?autoRotate=true&quality=95&type=f320_320&src=https%3A%2F%2Fldb-phinf.pstatic.net%2F20230426_142%2F168248294328385EsG_JPEG%2FIMG_7379.jpeg\");\n",
      "\n",
      "<span class=\"place_blind\">타마고 추가</span>\n",
      "width: 100px; height: 100px; background-image: url(\"https://search.pstatic.net/common/?autoRotate=true&quality=95&type=f320_320&src=https%3A%2F%2Fldb-phinf.pstatic.net%2F20230426_46%2F1682483059292zjfou_JPEG%2FIMG_7371.jpeg\");\n",
      "\n",
      "<span class=\"place_blind\">공기밥</span>\n",
      "width: 100px; height: 100px; background-image: url(\"https://search.pstatic.net/common/?autoRotate=true&quality=95&type=f320_320&src=https%3A%2F%2Fldb-phinf.pstatic.net%2F20230513_134%2F1683984339039xsdIc_JPEG%2FKakaoTalk_20230511_144651628.jpg\");\n",
      "\n",
      "<span class=\"place_blind\">아사히 생맥주 410cc</span>\n",
      "width: 100px; height: 100px; background-image: url(\"https://search.pstatic.net/common/?autoRotate=true&quality=95&type=f320_320&src=https%3A%2F%2Fldb-phinf.pstatic.net%2F20230519_52%2F1684504053491djqaf_PNG%2FKakaoTalk_20230519_213254778.png\");\n",
      "\n",
      "<span class=\"place_blind\">아사히 생맥주 280cc</span>\n",
      "width: 100px; height: 100px; background-image: url(\"https://search.pstatic.net/common/?autoRotate=true&quality=95&type=f320_320&src=https%3A%2F%2Fldb-phinf.pstatic.net%2F20230519_271%2F1684504077773PRS4c_PNG%2FKakaoTalk_20230519_213254778.png\");\n",
      "\n",
      "<span class=\"place_blind\">제로콜라</span>\n",
      "width: 100px; height: 100px; background-image: url(\"https://search.pstatic.net/common/?autoRotate=true&quality=95&type=f320_320&src=https%3A%2F%2Fldb-phinf.pstatic.net%2F20230426_113%2F1682483092769dcuKJ_JPEG%2FIMG_7376.jpeg\");\n",
      "\n",
      "<span class=\"place_blind\">콜라</span>\n",
      "width: 100px; height: 100px; background-image: url(\"https://search.pstatic.net/common/?autoRotate=true&quality=95&type=f320_320&src=https%3A%2F%2Fldb-phinf.pstatic.net%2F20230426_225%2F1682483107746IDeCa_JPEG%2FIMG_7373.jpeg\");\n",
      "\n",
      "<span class=\"place_blind\">사이다</span>\n",
      "width: 100px; height: 100px; background-image: url(\"https://search.pstatic.net/common/?autoRotate=true&quality=95&type=f320_320&src=https%3A%2F%2Fldb-phinf.pstatic.net%2F20230426_168%2F1682483125865EvKRl_JPEG%2FIMG_7375.jpeg\");\n",
      "\n",
      "<span class=\"place_blind\">펩시제로 라임</span>\n",
      "width: 100px; height: 100px; background-image: url(\"https://search.pstatic.net/common/?autoRotate=true&quality=95&type=f320_320&src=https%3A%2F%2Fldb-phinf.pstatic.net%2F20231029_47%2F1698547756300Jeea9_PNG%2FIMG_9038.png\");\n",
      "\n"
     ]
    }
   ],
   "source": [
    "for i in range(len(menu_items)):\n",
    "    print(menu_items[i].find(class_='place_blind'))\n",
    "    print(menu_items[i].find(class_=\"K0PDV\")['style'])\n",
    "    print()\n",
    "\n",
    "pattern = re.compile(r'url\\(\"([^\"]+)\"\\)')\n",
    "\n",
    "menu_dict={}\n",
    "\n",
    "for item in menu_items:\n",
    "    #메뉴 이름 추철\n",
    "    name_span = item.find(class_='place_blind')\n",
    "    menu_name = name_span.get_text() if name_span else \"Unknown\"\n",
    "\n",
    "    #이미지 URL을 추출\n",
    "    img_style = item.find(class_=\"K0PDV\")\n",
    "    if img_style and 'style' in img_style.attrs:  #img_style이 존재하고 style 속성이 있는지 확인\n",
    "        style_attr = img_style['style']\n",
    "        match = pattern.search(style_attr)\n",
    "        if match:  # URL 패턴이 매치되면 추출\n",
    "            img_url = match.group(1)\n",
    "            img_url = img_url.replace('&amp;', '&')  # '&amp;'를 '&'로 치환\n",
    "            menu_dict[menu_name] = img_url\n",
    "        else:\n",
    "            menu_dict[menu_name] = -1\n",
    "    else:\n",
    "        menu_dict[menu_name] = -1"
   ]
  },
  {
   "cell_type": "code",
   "execution_count": 47,
   "metadata": {},
   "outputs": [
    {
     "data": {
      "text/plain": [
       "{'마츠도 미소라멘': 'https://search.pstatic.net/common/?autoRotate=true&quality=95&type=f320_320&src=https%3A%2F%2Fldb-phinf.pstatic.net%2F20230426_251%2F1682476903528eOux9_JPEG%2FIMG_7377.jpeg',\n",
       " '마츠도 카라 미소라멘': 'https://search.pstatic.net/common/?autoRotate=true&quality=95&type=f320_320&src=https%3A%2F%2Fldb-phinf.pstatic.net%2F20230426_127%2F1682482685422GwDY9_JPEG%2FIMG_7372.jpeg',\n",
       " '마파두부면': 'https://search.pstatic.net/common/?autoRotate=true&quality=95&type=f320_320&src=https%3A%2F%2Fldb-phinf.pstatic.net%2F20230426_14%2F1682482719024T4gNx_JPEG%2FIMG_7385.jpeg',\n",
       " '미소아부라소바': 'https://search.pstatic.net/common/?autoRotate=true&quality=95&type=f320_320&src=https%3A%2F%2Fldb-phinf.pstatic.net%2F20230426_43%2F1682482757036RsnlK_JPEG%2FIMG_7380.jpeg',\n",
       " '카라 미소아부라소바': 'https://search.pstatic.net/common/?autoRotate=true&quality=95&type=f320_320&src=https%3A%2F%2Fldb-phinf.pstatic.net%2F20230717_280%2F1689540649756RxkqH_JPEG%2FIMG_7380.jpeg',\n",
       " '에비 아부라소바': 'https://search.pstatic.net/common/?autoRotate=true&quality=95&type=f320_320&src=https%3A%2F%2Fldb-phinf.pstatic.net%2F20230426_131%2F1682482802828bpSW7_JPEG%2FIMG_7381.jpeg',\n",
       " '새우물만두': 'https://search.pstatic.net/common/?autoRotate=true&quality=95&type=f320_320&src=https%3A%2F%2Fldb-phinf.pstatic.net%2F20230426_183%2F1682483641797L1yq7_JPEG%2FIMG_7378.jpeg',\n",
       " '세트추가(새우물만두)': 'https://search.pstatic.net/common/?autoRotate=true&quality=95&type=f320_320&src=https%3A%2F%2Fldb-phinf.pstatic.net%2F20230513_67%2F1683984217980wJNrV_JPEG%2FKakaoTalk_20230511_192804732.jpg',\n",
       " '차슈 추가': 'https://search.pstatic.net/common/?autoRotate=true&quality=95&type=f320_320&src=https%3A%2F%2Fldb-phinf.pstatic.net%2F20230426_142%2F168248294328385EsG_JPEG%2FIMG_7379.jpeg',\n",
       " '타마고 추가': 'https://search.pstatic.net/common/?autoRotate=true&quality=95&type=f320_320&src=https%3A%2F%2Fldb-phinf.pstatic.net%2F20230426_46%2F1682483059292zjfou_JPEG%2FIMG_7371.jpeg',\n",
       " '공기밥': 'https://search.pstatic.net/common/?autoRotate=true&quality=95&type=f320_320&src=https%3A%2F%2Fldb-phinf.pstatic.net%2F20230513_134%2F1683984339039xsdIc_JPEG%2FKakaoTalk_20230511_144651628.jpg',\n",
       " '아사히 생맥주 410cc': 'https://search.pstatic.net/common/?autoRotate=true&quality=95&type=f320_320&src=https%3A%2F%2Fldb-phinf.pstatic.net%2F20230519_52%2F1684504053491djqaf_PNG%2FKakaoTalk_20230519_213254778.png',\n",
       " '아사히 생맥주 280cc': 'https://search.pstatic.net/common/?autoRotate=true&quality=95&type=f320_320&src=https%3A%2F%2Fldb-phinf.pstatic.net%2F20230519_271%2F1684504077773PRS4c_PNG%2FKakaoTalk_20230519_213254778.png',\n",
       " '제로콜라': 'https://search.pstatic.net/common/?autoRotate=true&quality=95&type=f320_320&src=https%3A%2F%2Fldb-phinf.pstatic.net%2F20230426_113%2F1682483092769dcuKJ_JPEG%2FIMG_7376.jpeg',\n",
       " '콜라': 'https://search.pstatic.net/common/?autoRotate=true&quality=95&type=f320_320&src=https%3A%2F%2Fldb-phinf.pstatic.net%2F20230426_225%2F1682483107746IDeCa_JPEG%2FIMG_7373.jpeg',\n",
       " '사이다': 'https://search.pstatic.net/common/?autoRotate=true&quality=95&type=f320_320&src=https%3A%2F%2Fldb-phinf.pstatic.net%2F20230426_168%2F1682483125865EvKRl_JPEG%2FIMG_7375.jpeg',\n",
       " '펩시제로 라임': 'https://search.pstatic.net/common/?autoRotate=true&quality=95&type=f320_320&src=https%3A%2F%2Fldb-phinf.pstatic.net%2F20231029_47%2F1698547756300Jeea9_PNG%2FIMG_9038.png'}"
      ]
     },
     "execution_count": 47,
     "metadata": {},
     "output_type": "execute_result"
    }
   ],
   "source": [
    "menu_dict"
   ]
  },
  {
   "cell_type": "code",
   "execution_count": 48,
   "id": "50c4f2bb",
   "metadata": {},
   "outputs": [
    {
     "name": "stdout",
     "output_type": "stream",
     "text": [
      "10 번째 이미지까지 저장 완료\n",
      "20 번째 이미지까지 저장 완료\n",
      "30 번째 이미지까지 저장 완료\n",
      "40 번째 이미지까지 저장 완료\n",
      "50 번째 이미지까지 저장 완료\n",
      "60 번째 이미지까지 저장 완료\n",
      "70 번째 이미지까지 저장 완료\n",
      "80 번째 이미지까지 저장 완료\n",
      "90 번째 이미지까지 저장 완료\n",
      "100 번째 이미지까지 저장 완료\n",
      "110 번째 이미지까지 저장 완료\n",
      "120 번째 이미지까지 저장 완료\n",
      "130 번째 이미지까지 저장 완료\n",
      "140 번째 이미지까지 저장 완료\n",
      "150 번째 이미지까지 저장 완료\n",
      "160 번째 이미지까지 저장 완료\n",
      "170 번째 이미지까지 저장 완료\n",
      "180 번째 이미지까지 저장 완료\n",
      "190 번째 이미지까지 저장 완료\n",
      "200 번째 이미지까지 저장 완료\n",
      "210 번째 이미지까지 저장 완료\n",
      "220 번째 이미지까지 저장 완료\n",
      "230 번째 이미지까지 저장 완료\n",
      "240 번째 이미지까지 저장 완료\n",
      "250 번째 이미지까지 저장 완료\n",
      "260 번째 이미지까지 저장 완료\n",
      "270 번째 이미지까지 저장 완료\n",
      "280 번째 이미지까지 저장 완료\n",
      "290 번째 이미지까지 저장 완료\n",
      "300 번째 이미지까지 저장 완료\n",
      "310 번째 이미지까지 저장 완료\n",
      "320 번째 이미지까지 저장 완료\n",
      "320 개의 이미지 저장 완료!\n"
     ]
    }
   ],
   "source": [
    "import urllib.request\n",
    "\n",
    "os.chdir(img_dir_name)\n",
    "\n",
    "save_cnt = 1\n",
    "for key in img_dict:\n",
    "    #urllib.request.urlretrieve(img_dict[key], str(restaurant_name)+\"_\"+str(key)+\".jpg\")\n",
    "    urllib.request.urlretrieve(img_dict[key], str(save_cnt)+\".jpg\")\n",
    "    if (save_cnt % 10) == 0:\n",
    "        print(\"%d 번째 이미지까지 저장 완료\" % (save_cnt))\n",
    "    save_cnt += 1\n",
    "\n",
    "print(\"%d 개의 이미지 저장 완료!\" % (save_cnt-1))"
   ]
  },
  {
   "cell_type": "code",
   "execution_count": 49,
   "id": "3ce30776",
   "metadata": {},
   "outputs": [
    {
     "name": "stdout",
     "output_type": "stream",
     "text": [
      "     Menu Name                                          Image URL\n",
      "0     마츠도 미소라멘  https://search.pstatic.net/common/?autoRotate=...\n",
      "1  마츠도 카라 미소라멘  https://search.pstatic.net/common/?autoRotate=...\n",
      "2        마파두부면  https://search.pstatic.net/common/?autoRotate=...\n",
      "3      미소아부라소바  https://search.pstatic.net/common/?autoRotate=...\n",
      "4   카라 미소아부라소바  https://search.pstatic.net/common/?autoRotate=...\n",
      "10 번째 이미지까지 저장 완료\n",
      "17 개의 이미지 저장 완료!\n"
     ]
    }
   ],
   "source": [
    "os.chdir(\"../\"+menu_dir_name)\n",
    "\n",
    "menu_df = pd.DataFrame(list(menu_dict.items()), columns=['Menu Name', 'Image URL'])\n",
    "menu_df.to_csv('menu_images.csv', index=False)\n",
    "print(menu_df.head())\n",
    "\n",
    "save_cnt = 1\n",
    "for key in menu_dict:\n",
    "    urllib.request.urlretrieve(menu_dict[key],str(key)+\".jpg\")\n",
    "    #urllib.request.urlretrieve(menu_dict[key], str(save_cnt)+\".jpg\")\n",
    "    if (save_cnt % 10) == 0:\n",
    "        print(\"%d 번째 이미지까지 저장 완료\" % (save_cnt))\n",
    "    save_cnt += 1\n",
    "\n",
    "print(\"%d 개의 이미지 저장 완료!\" % (save_cnt-1))"
   ]
  },
  {
   "cell_type": "code",
   "execution_count": null,
   "id": "b37f471a",
   "metadata": {},
   "outputs": [],
   "source": []
  },
  {
   "cell_type": "code",
   "execution_count": null,
   "id": "1f01c709",
   "metadata": {},
   "outputs": [],
   "source": []
  },
  {
   "cell_type": "code",
   "execution_count": null,
   "id": "2a219431",
   "metadata": {},
   "outputs": [],
   "source": []
  },
  {
   "cell_type": "code",
   "execution_count": null,
   "id": "ba1669b9",
   "metadata": {},
   "outputs": [],
   "source": []
  },
  {
   "cell_type": "code",
   "execution_count": null,
   "id": "259e7940",
   "metadata": {},
   "outputs": [],
   "source": []
  },
  {
   "cell_type": "code",
   "execution_count": null,
   "id": "79b4142e",
   "metadata": {},
   "outputs": [],
   "source": []
  },
  {
   "cell_type": "code",
   "execution_count": null,
   "id": "db9df6aa",
   "metadata": {},
   "outputs": [],
   "source": []
  }
 ],
 "metadata": {
  "kernelspec": {
   "display_name": "Python 3 (ipykernel)",
   "language": "python",
   "name": "python3"
  },
  "language_info": {
   "codemirror_mode": {
    "name": "ipython",
    "version": 3
   },
   "file_extension": ".py",
   "mimetype": "text/x-python",
   "name": "python",
   "nbconvert_exporter": "python",
   "pygments_lexer": "ipython3",
   "version": "3.11.5"
  }
 },
 "nbformat": 4,
 "nbformat_minor": 5
}
